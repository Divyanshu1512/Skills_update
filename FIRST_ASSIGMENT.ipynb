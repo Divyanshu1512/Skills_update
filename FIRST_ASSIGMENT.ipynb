{
  "nbformat": 4,
  "nbformat_minor": 0,
  "metadata": {
    "colab": {
      "provenance": []
    },
    "kernelspec": {
      "name": "python3",
      "display_name": "Python 3"
    },
    "language_info": {
      "name": "python"
    }
  },
  "cells": [
    {
      "cell_type": "markdown",
      "source": [
        "# Questionaries\n"
      ],
      "metadata": {
        "id": "L44eDAnHfvR6"
      }
    },
    {
      "cell_type": "markdown",
      "source": [
        "1. What is Python, and why is it popular?\n",
        "  - Python is a coding language that is easy to understand and have so many built-in library that can be used by and programmer to make is clean and fast same there are more key ponits why it's so famous\n",
        "   some of them are -\n",
        "   versatility , simplilicity , eco system of library and most importabt it can work same on Windows , Linux and OS\n",
        "\n",
        "2.  What is an interpreter in Python ?\n",
        "  -  It is a program that process and run the python code line by line or in other words we can say is translate code into binary language that machine can understand but works line by line.\n",
        "\n",
        "3. What are pre-defined keywords in Python\n",
        "  - Predefined keywords are those word's that are already defined in the language itself or in it's library that can't be used for any other variable\n",
        "  if we assign that predefined keyword as a variable then it will not perform its basic task (for which it has been definef in the language ).\n",
        "\n",
        "4. Can keywords be used as variable names ?\n",
        " - No we can't use any keywords as a variable if we defined any keywords as variable then it won't works its basic function.\n",
        "\n",
        "5. What is mutability in Python ?\n",
        " -  Mutability is a process of changing the content of any data type .\n",
        "\n",
        "6. Why are lists mutable, but tuples are immutable ?\n",
        "  -The only reason why list are mutable but not tuples is list have built in feature that allows altertarion in the list but not present in tuples such as append() , insert() ,remove(),pop().\n",
        "\n",
        "7. What is the difference between “==” and “is” operators in Python ?\n",
        " - '==' compares the value of the variable whereas 'is' checks the address of the variable that they are equal or not\n",
        " - in other words we can say that == checks the value and  'is' checks where the values are stored.\n",
        "8. What are logical operators in Python ?\n",
        "  - Logic operators are those operartors that works on boolean value .\n",
        "  - They are of 3 types.\n",
        "  - And (All statemets need to be true or '1')\n",
        "  - Or(Any statement need to be true or'1')\n",
        "  - Not(It provide opposite value of the inserted value)\n",
        "9. What is type casting in Python ?\n",
        "  - It is a process of changing the data type of any fuction during any process,the main purpose of doing that if we need to represent data in other data type.\n",
        "\n",
        "10. What is the difference between implicit and explicit type casting ?\n",
        "  - Implicit type casting done by code itself without our asking whereas in explicit type casting we need to change our data type .\n",
        "\n",
        "11. What is the purpose of conditional statements in Python ?\n",
        " - It controls the flow of execution in the program . It make sures that not need values get removed from the function.\n",
        " - some of them are\n",
        " - if\n",
        " - if - else (elif)\n",
        " - else\n",
        "12. How does the elif statement work ?\n",
        " -  elif works in 2 stages first it checks the if statement then it'll go to elif . elif uses when there are more than 2 condition . Then first condition checks by IF then it goes to ELIF and we can create multiple else in single is else statement.\n",
        "\n",
        "13. What is the difference between for and while loops ?\n",
        " - FOR loop works when we spefic with how much times we need to eun that code (example 'for i in range len(function)' ) so for loop will work until it reaches to len of function\n",
        " - While loop works when we need to run until a specific condition comes (example count= int(input())\n",
        " while count <0 print(Namster)\n",
        "  ) in this case program will run until\n",
        "count becomes 0\n",
        "\n",
        "14.  Describe a scenario where a while loop is more suitable than a for loop ?\n",
        "  - suppose we are playing a game in which you need to guess a number picked by me and the number range between 100-1000 so there are 900 inputs to check single answer we can't use for loop in it.\n",
        "\n",
        "  -guess_by_you=int(input())\n",
        "  -guess_by_you=432 #i guessed we can generate\n",
        "  -while guess_by_you!=guess_by_you\n",
        "  -  print('you lose')"
      ],
      "metadata": {
        "id": "sSSVcCl3f-Zb"
      }
    },
    {
      "cell_type": "markdown",
      "source": [
        "# Practice Question"
      ],
      "metadata": {
        "id": "g4rKqjtokNtg"
      }
    },
    {
      "cell_type": "markdown",
      "source": [
        "1. Write a Python program to print \"Hello, World!"
      ],
      "metadata": {
        "id": "iQEt5hCLj-Vg"
      }
    },
    {
      "cell_type": "code",
      "source": [
        "print(\"Hello world\")\n"
      ],
      "metadata": {
        "colab": {
          "base_uri": "https://localhost:8080/",
          "height": 0
        },
        "id": "NjLG12ZHkCvz",
        "outputId": "3b3073b5-a0a4-45b6-96b8-27b85706e3d5"
      },
      "execution_count": 1,
      "outputs": [
        {
          "output_type": "stream",
          "name": "stdout",
          "text": [
            "Hello world\n"
          ]
        }
      ]
    },
    {
      "cell_type": "markdown",
      "source": [],
      "metadata": {
        "id": "URaR094zkJjb"
      }
    },
    {
      "cell_type": "markdown",
      "source": [
        "2. Write a Python program that displays your name and age"
      ],
      "metadata": {
        "id": "N_CU-ZsWkbrK"
      }
    },
    {
      "cell_type": "code",
      "source": [
        "name =\" Divyanshu Gupta\"\n",
        "age=20\n",
        "\n",
        "print(f\"My name is {name} and my age is {age}.\")"
      ],
      "metadata": {
        "colab": {
          "base_uri": "https://localhost:8080/",
          "height": 0
        },
        "id": "KbJht3mTkhc9",
        "outputId": "86ae1a1d-06b6-4a54-ffc6-e4a519d3d211"
      },
      "execution_count": 3,
      "outputs": [
        {
          "output_type": "stream",
          "name": "stdout",
          "text": [
            "My name is  Divyanshu Gupta and my age is 20.\n"
          ]
        }
      ]
    },
    {
      "cell_type": "markdown",
      "source": [
        "3. Write code to print all the pre-defined keywords in Python using the keyword library"
      ],
      "metadata": {
        "id": "MozBza-flPmL"
      }
    },
    {
      "cell_type": "code",
      "source": [
        "import keyword\n",
        "\n",
        "print(\"Python keywords are:\")\n",
        "print(keyword.kwlist)\n",
        "dir(keyword)"
      ],
      "metadata": {
        "colab": {
          "base_uri": "https://localhost:8080/",
          "height": 0
        },
        "id": "XJo2ze91l4pC",
        "outputId": "b7e242e1-e7b3-4975-f37f-0034de72722b"
      },
      "execution_count": 5,
      "outputs": [
        {
          "output_type": "stream",
          "name": "stdout",
          "text": [
            "Python keywords are:\n",
            "['False', 'None', 'True', 'and', 'as', 'assert', 'async', 'await', 'break', 'class', 'continue', 'def', 'del', 'elif', 'else', 'except', 'finally', 'for', 'from', 'global', 'if', 'import', 'in', 'is', 'lambda', 'nonlocal', 'not', 'or', 'pass', 'raise', 'return', 'try', 'while', 'with', 'yield']\n"
          ]
        },
        {
          "output_type": "execute_result",
          "data": {
            "text/plain": [
              "['__all__',\n",
              " '__builtins__',\n",
              " '__cached__',\n",
              " '__doc__',\n",
              " '__file__',\n",
              " '__loader__',\n",
              " '__name__',\n",
              " '__package__',\n",
              " '__spec__',\n",
              " 'iskeyword',\n",
              " 'issoftkeyword',\n",
              " 'kwlist',\n",
              " 'softkwlist']"
            ]
          },
          "metadata": {},
          "execution_count": 5
        }
      ]
    },
    {
      "cell_type": "markdown",
      "source": [
        "4. Write a program that checks if a given word is a Python keyword.\n"
      ],
      "metadata": {
        "id": "SpujSrRhmVNk"
      }
    },
    {
      "cell_type": "code",
      "source": [
        "to_check=input()\n",
        "import keyword\n",
        "def to_know(to_check):\n",
        "  return keyword.iskeyword(to_check)\n",
        "if to_know(to_check) :\n",
        "  print('you entered the keyword')\n",
        "else:\n",
        "  print('not a keyword')"
      ],
      "metadata": {
        "colab": {
          "base_uri": "https://localhost:8080/",
          "height": 0
        },
        "id": "z9k69_dmmaeX",
        "outputId": "0f689e99-1930-4f62-f015-ee0c3b56abbe"
      },
      "execution_count": 12,
      "outputs": [
        {
          "output_type": "stream",
          "name": "stdout",
          "text": [
            "and\n",
            "you entered the keyword\n"
          ]
        }
      ]
    },
    {
      "cell_type": "markdown",
      "source": [
        "5. Create a list and tuple in Python, and demonstrate how attempting to change an element works differently\n",
        "for each."
      ],
      "metadata": {
        "id": "C29PyOvPoTvv"
      }
    },
    {
      "cell_type": "code",
      "source": [
        "\n",
        "my_list = [10, 20, 30]\n",
        "my_tuple = (10, 20, 30)\n",
        "print(\"list:\", my_list)\n",
        "my_list[1] = 99\n",
        "print(\" list:\", my_list)\n",
        "print(\"tuple:\", my_tuple)    # i already know about exception handling\n",
        "try:\n",
        "    my_tuple[1] = 99\n",
        "except TypeError as e:\n",
        "    print(\"Error\", e)\n"
      ],
      "metadata": {
        "colab": {
          "base_uri": "https://localhost:8080/",
          "height": 0
        },
        "id": "AdCZR4d2oZCb",
        "outputId": "8af0b493-f49e-43d6-fb01-8b621d750026"
      },
      "execution_count": 14,
      "outputs": [
        {
          "output_type": "stream",
          "name": "stdout",
          "text": [
            "list: [10, 20, 30]\n",
            " list: [10, 99, 30]\n",
            "tuple: (10, 20, 30)\n",
            "Error 'tuple' object does not support item assignment\n"
          ]
        }
      ]
    },
    {
      "cell_type": "markdown",
      "source": [
        "6. Write a function to demonstrate the behavior of mutable and immutable arguments."
      ],
      "metadata": {
        "id": "zxeE_nVapG4I"
      }
    },
    {
      "cell_type": "code",
      "source": [],
      "metadata": {
        "id": "mcGzCVtzpKeI"
      },
      "execution_count": null,
      "outputs": []
    },
    {
      "cell_type": "markdown",
      "source": [
        "7.Write a program that performs basic arithmetic operations on two user-input numbers."
      ],
      "metadata": {
        "id": "tXIzQhoNvanj"
      }
    },
    {
      "cell_type": "code",
      "source": [
        "first=int(input())\n",
        "second = int(input())\n",
        "what_to_do = int(input('''Enter 1 for +\n",
        "enter 2 for -\n",
        "enter 3 for *\n",
        "enter 4 for /'''))\n",
        "\n",
        "if what_to_do == 1:\n",
        "  print(first+second)\n",
        "elif what_to_do == 2:\n",
        "  print(first-second)\n",
        "elif what_to_do == 3:\n",
        "  print(first*second)\n",
        "elif what_to_do == 4:\n",
        "  print(first/second)\n",
        "else:\n",
        "  print(\"invalid input\")4\n"
      ],
      "metadata": {
        "colab": {
          "base_uri": "https://localhost:8080/"
        },
        "id": "ZHJYDOJpveX9",
        "outputId": "e471c40d-f067-4026-ffb7-ba081881297e"
      },
      "execution_count": 1,
      "outputs": [
        {
          "output_type": "stream",
          "name": "stdout",
          "text": [
            "32\n",
            "32\n",
            "Enter 1 for + \n",
            "enter 2 for -\n",
            "enter 3 for *\n",
            "enter 4 for /2\n",
            "0\n"
          ]
        }
      ]
    },
    {
      "cell_type": "markdown",
      "source": [
        "8. Write a program to demonstrate the use of logical operators."
      ],
      "metadata": {
        "id": "SdmwoK9HwmBd"
      }
    },
    {
      "cell_type": "code",
      "source": [
        "a = int(input(\"first\"))\n",
        "b = int(input(\"second\"))\n",
        "\n",
        "print(\"Logical AND (a > 0 and b > 0):\", a > 0 and b > 0)\n",
        "print(\"Logical OR (a > 0 or b > 0):\", a > 0 or b > 0)\n",
        "print(\"Logical NOT (not (a > 0)):\", not (a>0))  # not provide opposite result\n",
        "print(\"Logical NOT (not (a > 0)):\", not (a<0))"
      ],
      "metadata": {
        "colab": {
          "base_uri": "https://localhost:8080/"
        },
        "id": "KOa9ZCLzwp_j",
        "outputId": "ba6c2d8a-1ab4-4a25-e7b4-19c7ab04131c"
      },
      "execution_count": 2,
      "outputs": [
        {
          "output_type": "stream",
          "name": "stdout",
          "text": [
            "first43\n",
            "second54\n",
            "Logical AND (a > 0 and b > 0): True\n",
            "Logical OR (a > 0 or b > 0): True\n",
            "Logical NOT (not (a > 0)): False\n"
          ]
        }
      ]
    },
    {
      "cell_type": "markdown",
      "source": [
        "9. Write a Python program to convert user input from string to integer, float, and boolean types"
      ],
      "metadata": {
        "id": "Yx8AM-fIxL9Y"
      }
    },
    {
      "cell_type": "code",
      "source": [
        "data = input()\n",
        "print(type(data))\n",
        "data = int(data)\n",
        "print(type(data))\n",
        "data = float(data)\n",
        "print(type(data))\n",
        "data = bool(data)\n",
        "print(type(data))"
      ],
      "metadata": {
        "colab": {
          "base_uri": "https://localhost:8080/"
        },
        "id": "Nd1PW4JjxQge",
        "outputId": "6b4ec152-6160-491e-dce4-fe0d63d7e813"
      },
      "execution_count": 5,
      "outputs": [
        {
          "output_type": "stream",
          "name": "stdout",
          "text": [
            "23\n",
            "<class 'str'>\n",
            "<class 'int'>\n",
            "<class 'float'>\n",
            "<class 'bool'>\n"
          ]
        }
      ]
    },
    {
      "cell_type": "markdown",
      "source": [
        "10.Write code to demonstrate type casting with list elements."
      ],
      "metadata": {
        "id": "8eFXVJxbxsNh"
      }
    },
    {
      "cell_type": "code",
      "source": [
        "str_list = ['32','54','546','6544','5432']\n",
        "\n",
        "int_list = [int(i) for i in str_list]\n",
        "\n",
        "print(\"Original list\", str_list)\n",
        "print(\"After type casting\", int_list)  # can also be changed to float value as well\n",
        "\n",
        "\n",
        "str_again = [str(i) for i in int_list]\n",
        "print(\"After casting back to strings:\",str_again)"
      ],
      "metadata": {
        "colab": {
          "base_uri": "https://localhost:8080/"
        },
        "id": "PxoBTVS0x30m",
        "outputId": "e0b4d507-e690-4fff-be60-b1727fe2a7fd"
      },
      "execution_count": 6,
      "outputs": [
        {
          "output_type": "stream",
          "name": "stdout",
          "text": [
            "Original list ['32', '54', '546', '6544', '5432']\n",
            "After type casting [32, 54, 546, 6544, 5432]\n",
            "After casting back to strings: ['32', '54', '546', '6544', '5432']\n"
          ]
        }
      ]
    },
    {
      "cell_type": "markdown",
      "source": [
        "11. Write a program that checks if a number is positive, negative, or zero\n"
      ],
      "metadata": {
        "id": "uUT98ERcyz8z"
      }
    },
    {
      "cell_type": "code",
      "source": [
        "num = int(input())\n",
        "if num > 0:\n",
        "    print(f\"{num} is positive.\")\n",
        "elif num < 0:\n",
        "    print(f\"{num} is negative.\")\n",
        "else:\n",
        "    print(\"The number is zero.\")"
      ],
      "metadata": {
        "colab": {
          "base_uri": "https://localhost:8080/"
        },
        "id": "QXmhY6fzy2qo",
        "outputId": "2d5eff12-5676-48a0-8a8f-81e0e1bbf446"
      },
      "execution_count": 7,
      "outputs": [
        {
          "output_type": "stream",
          "name": "stdout",
          "text": [
            "54324315\n",
            "54324315 is positive.\n"
          ]
        }
      ]
    },
    {
      "cell_type": "markdown",
      "source": [
        "12. Write a for loop to print numbers from 1 to 10"
      ],
      "metadata": {
        "id": "TRUUXGwwzD0O"
      }
    },
    {
      "cell_type": "code",
      "source": [
        "val=11\n",
        "for i in range (1,11,1) :\n",
        "  print(i)\n"
      ],
      "metadata": {
        "colab": {
          "base_uri": "https://localhost:8080/"
        },
        "id": "0t12A2PQzHm9",
        "outputId": "364fb64e-f2c1-4f6e-bb05-c3212d5b0ee3"
      },
      "execution_count": 8,
      "outputs": [
        {
          "output_type": "stream",
          "name": "stdout",
          "text": [
            "1\n",
            "2\n",
            "3\n",
            "4\n",
            "5\n",
            "6\n",
            "7\n",
            "8\n",
            "9\n",
            "10\n"
          ]
        }
      ]
    },
    {
      "cell_type": "markdown",
      "source": [],
      "metadata": {
        "id": "Bpc3scNmza5l"
      }
    },
    {
      "cell_type": "markdown",
      "source": [
        "13. Write a Python program to find the sum of all even numbers between 1 and 50."
      ],
      "metadata": {
        "id": "5umi5TzizcMA"
      }
    },
    {
      "cell_type": "code",
      "source": [
        "print([i for i in range(2, 51, 2)])"
      ],
      "metadata": {
        "colab": {
          "base_uri": "https://localhost:8080/"
        },
        "id": "kNR7Z3mn0Fz0",
        "outputId": "64c3f68d-7d81-4f9b-ed89-4998321775bc"
      },
      "execution_count": 11,
      "outputs": [
        {
          "output_type": "stream",
          "name": "stdout",
          "text": [
            "[2, 4, 6, 8, 10, 12, 14, 16, 18, 20, 22, 24, 26, 28, 30, 32, 34, 36, 38, 40, 42, 44, 46, 48, 50]\n"
          ]
        }
      ]
    },
    {
      "cell_type": "markdown",
      "source": [
        "14. Write a program to reverse a string using a while loop."
      ],
      "metadata": {
        "id": "5ByO4cF90JIj"
      }
    },
    {
      "cell_type": "code",
      "source": [
        "str_ = input()\n",
        "print(str_[::-1])\n"
      ],
      "metadata": {
        "colab": {
          "base_uri": "https://localhost:8080/"
        },
        "id": "-qevzOMM0MaN",
        "outputId": "8b0930e3-b114-40b7-c19d-494e28090d30"
      },
      "execution_count": 12,
      "outputs": [
        {
          "output_type": "stream",
          "name": "stdout",
          "text": [
            "4252GDFGSDHADF\n",
            "FDAHDSGFDG2524\n"
          ]
        }
      ]
    },
    {
      "cell_type": "markdown",
      "source": [
        "15.  Write a Python program to calculate the factorial of a number provided by the user using a while loop."
      ],
      "metadata": {
        "id": "qbISDrMd0Ynh"
      }
    },
    {
      "cell_type": "code",
      "source": [
        "fact=int(input())\n",
        "factorial = 1\n",
        "n = fact\n",
        "\n",
        "while n > 1:\n",
        "    factorial *= n\n",
        "    n -= 1\n",
        "print(factorial)"
      ],
      "metadata": {
        "colab": {
          "base_uri": "https://localhost:8080/"
        },
        "id": "rneclS7G0bYo",
        "outputId": "d8d69aef-e8b4-43b9-c00c-482bd5f7bf11"
      },
      "execution_count": 20,
      "outputs": [
        {
          "output_type": "stream",
          "name": "stdout",
          "text": [
            "5\n",
            "120\n"
          ]
        }
      ]
    }
  ]
}